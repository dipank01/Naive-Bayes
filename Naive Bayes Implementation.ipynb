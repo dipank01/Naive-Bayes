{
 "cells": [
  {
   "cell_type": "markdown",
   "metadata": {},
   "source": [
    "# Implemetation"
   ]
  },
  {
   "cell_type": "code",
   "execution_count": 17,
   "metadata": {},
   "outputs": [],
   "source": [
    "import numpy as np"
   ]
  },
  {
   "cell_type": "code",
   "execution_count": 67,
   "metadata": {},
   "outputs": [],
   "source": [
    "def fit(X_train,Y_train):                          #make dictionaries\n",
    "    result = {}\n",
    "    class_values = set(Y_train)                    #different classes present in Output\n",
    "    \n",
    "    for current_class in class_values:\n",
    "        result[current_class] = {}                 #contains all features\n",
    "        result['total_data'] = len(Y_train)\n",
    "        current_class_rows = (Y_train == current_class)    # all the values with current class\n",
    "        X_train_current = X_train[current_class_rows]\n",
    "        Y_train_current = Y_train[current_class_rows]\n",
    "        num_features = X_train.shape[1]\n",
    "        result[current_class]['total_count'] = len(Y_train_current)\n",
    "        \n",
    "        for j in range(1,num_features+1):          #dictionary to contains all possible feature values\n",
    "            result[current_class][j] = {}     \n",
    "            all_possible_values = set(X_train[:,j-1]) # j-1 bcoz rows in X_train will be from 0 to n-1\n",
    "            \n",
    "            for current_value in all_possible_values:\n",
    "                result[current_class][j][current_value] = (X_train_current[:,j-1] == current_value).sum()\n",
    "                \n",
    "    return result"
   ]
  },
  {
   "cell_type": "code",
   "execution_count": 83,
   "metadata": {},
   "outputs": [],
   "source": [
    "# Function to calculate probability\n",
    "def probability(dictionary,x,current_class):\n",
    "    output = np.log(dictionary[current_class]['total_count']) - np.log(dictionary['total_data'])    #P(y = ai)\n",
    "    num_features = len(dictionary[current_class].keys()) - 1           # -1 to remove result['current_class']['total_count']\n",
    "    \n",
    "    for j in range(1,num_features+1):\n",
    "        xj = x[j-1]  # j-1 bcoz rows in X_train will be from 0 to n-1\n",
    "        count_current_class_with_value_xj = dictionary[current_class][j][xj] + 1 #Laplace correction\n",
    "        count_current_class = dictionary[current_class]['total_count'] + len(dictionary[current_class][j].keys()) #Adding no of all possible values of xj for laplace correction\n",
    "        current_xj_probability = np.log(count_current_class_with_value_xj)  - np.log(count_current_class)\n",
    "        output = output + current_xj_probability\n",
    "    \n",
    "    return output"
   ]
  },
  {
   "cell_type": "code",
   "execution_count": 84,
   "metadata": {},
   "outputs": [],
   "source": [
    "# Function to predict value based on maximum value of classes\n",
    "def predictSinglePoint(dictionary,x):\n",
    "    classes = dictionary.keys()\n",
    "    best_p = -1000\n",
    "    best_class = -1\n",
    "    FirstRun = True\n",
    "    \n",
    "    for current_class in classes:\n",
    "        if(current_class == 'total_data'):\n",
    "            continue\n",
    "        p_current_class = probability(dictionary,x,current_class)\n",
    "        if(FirstRun or p_current_class > best_p):\n",
    "            best_p = p_current_class\n",
    "            best_class = current_class\n",
    "        FirstRun = False\n",
    "    \n",
    "    return best_class"
   ]
  },
  {
   "cell_type": "code",
   "execution_count": 85,
   "metadata": {},
   "outputs": [],
   "source": [
    "def predict(dictionary,X_test):\n",
    "    Y_pred = []\n",
    "    for x in X_test:\n",
    "        x_class = predictSinglePoint(dictionary,x)\n",
    "        Y_pred.append(x_class)\n",
    "    return Y_pred"
   ]
  },
  {
   "cell_type": "code",
   "execution_count": null,
   "metadata": {},
   "outputs": [],
   "source": []
  },
  {
   "cell_type": "code",
   "execution_count": 86,
   "metadata": {},
   "outputs": [],
   "source": [
    "# Function to convert given data into 4 labels(categories)\n",
    "def MakeLabelled(column):\n",
    "    second_limit = column.mean()\n",
    "    first_limit = 0.5*second_limit\n",
    "    third_limit = 1.5*second_limit\n",
    "    \n",
    "    for i in range(0,len(column)):\n",
    "        if(column[i] < first_limit):\n",
    "            column[i] = 0\n",
    "        elif (column[i] < second_limit):\n",
    "            column[i] = 1\n",
    "        elif (column[i] < third_limit):\n",
    "            column[i] = 2\n",
    "        else:\n",
    "            column[i] = 3\n",
    "    \n",
    "    return column"
   ]
  },
  {
   "cell_type": "code",
   "execution_count": 87,
   "metadata": {},
   "outputs": [],
   "source": [
    "# Loading Iris dataset\n",
    "from sklearn import datasets\n",
    "iris = datasets.load_iris()"
   ]
  },
  {
   "cell_type": "code",
   "execution_count": 88,
   "metadata": {},
   "outputs": [],
   "source": [
    "X = iris.data\n",
    "Y = iris.target"
   ]
  },
  {
   "cell_type": "code",
   "execution_count": 89,
   "metadata": {},
   "outputs": [],
   "source": [
    "# Converting data in labels\n",
    "for i in range(0,X.shape[1]):\n",
    "    X[:,i] = MakeLabelled(X[:,i])"
   ]
  },
  {
   "cell_type": "code",
   "execution_count": 90,
   "metadata": {},
   "outputs": [],
   "source": [
    "# Splitting data unto training and testing data\n",
    "from sklearn import model_selection\n",
    "X_train, X_test, Y_train, Y_test = model_selection.train_test_split(X,Y,test_size = 0.25, random_state = 0)"
   ]
  },
  {
   "cell_type": "code",
   "execution_count": 91,
   "metadata": {},
   "outputs": [],
   "source": [
    "dictionary = fit(X_train,Y_train)"
   ]
  },
  {
   "cell_type": "code",
   "execution_count": 92,
   "metadata": {},
   "outputs": [],
   "source": [
    "# Predicting values for test data\n",
    "Y_pred = predict(dictionary,X_test)"
   ]
  },
  {
   "cell_type": "code",
   "execution_count": 94,
   "metadata": {},
   "outputs": [
    {
     "name": "stdout",
     "output_type": "stream",
     "text": [
      "              precision    recall  f1-score   support\n",
      "\n",
      "           0       1.00      1.00      1.00        13\n",
      "           1       0.94      1.00      0.97        16\n",
      "           2       1.00      0.89      0.94         9\n",
      "\n",
      "    accuracy                           0.97        38\n",
      "   macro avg       0.98      0.96      0.97        38\n",
      "weighted avg       0.98      0.97      0.97        38\n",
      "\n",
      "[[13  0  0]\n",
      " [ 0 16  0]\n",
      " [ 0  1  8]]\n"
     ]
    }
   ],
   "source": [
    "# Printing classification report and confusion matrix\n",
    "from sklearn.metrics import classification_report, confusion_matrix\n",
    "print(classification_report(Y_test,Y_pred))\n",
    "print(confusion_matrix(Y_test,Y_pred))"
   ]
  },
  {
   "cell_type": "markdown",
   "metadata": {},
   "source": [
    "\n",
    "# GAUSSIAN PROBABILITY"
   ]
  },
  {
   "cell_type": "code",
   "execution_count": 96,
   "metadata": {},
   "outputs": [
    {
     "name": "stdout",
     "output_type": "stream",
     "text": [
      "              precision    recall  f1-score   support\n",
      "\n",
      "           0       1.00      0.85      0.92        13\n",
      "           1       0.76      1.00      0.86        16\n",
      "           2       1.00      0.67      0.80         9\n",
      "\n",
      "    accuracy                           0.87        38\n",
      "   macro avg       0.92      0.84      0.86        38\n",
      "weighted avg       0.90      0.87      0.87        38\n",
      "\n",
      "[[11  2  0]\n",
      " [ 0 16  0]\n",
      " [ 0  3  6]]\n"
     ]
    }
   ],
   "source": [
    "# Printing classification report after applying Gaussian Naive-Bayes on training and testing data\n",
    "from sklearn.naive_bayes import GaussianNB\n",
    "clf = GaussianNB()\n",
    "clf.fit(X_train,Y_train)\n",
    "Y_pred = clf.predict(X_test)\n",
    "print(classification_report(Y_test,Y_pred))\n",
    "print(confusion_matrix(Y_test,Y_pred))"
   ]
  }
 ],
 "metadata": {
  "kernelspec": {
   "display_name": "Python 3",
   "language": "python",
   "name": "python3"
  },
  "language_info": {
   "codemirror_mode": {
    "name": "ipython",
    "version": 3
   },
   "file_extension": ".py",
   "mimetype": "text/x-python",
   "name": "python",
   "nbconvert_exporter": "python",
   "pygments_lexer": "ipython3",
   "version": "3.7.6"
  }
 },
 "nbformat": 4,
 "nbformat_minor": 4
}
